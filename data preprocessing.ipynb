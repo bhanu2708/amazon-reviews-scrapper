{
 "cells": [
  {
   "cell_type": "markdown",
   "metadata": {},
   "source": [
    "\n",
    "## Preparing Amazon dataset"
   ]
  },
  {
   "cell_type": "code",
   "execution_count": 1,
   "metadata": {},
   "outputs": [],
   "source": [
    "# Dataframe\n",
    "import pandas as pd\n",
    "\n",
    "# Array\n",
    "import numpy as np\n",
    "\n",
    "# Decompress the file\n",
    "import gzip\n",
    "\n",
    "# Visualizations\n",
    "import matplotlib.pyplot as plt\n",
    "from matplotlib.colors import ListedColormap\n",
    "import seaborn as sns\n",
    "import matplotlib.colors as colors\n",
    "%matplotlib inline\n",
    "\n",
    "# Datetime\n",
    "from datetime import datetime\n",
    "\n",
    "## Warnings\n",
    "import warnings\n",
    "from scipy import stats\n",
    "warnings.filterwarnings('ignore')\n",
    "import os"
   ]
  },
  {
   "cell_type": "code",
   "execution_count": 2,
   "metadata": {},
   "outputs": [],
   "source": [
    "# IMPORT MOBILE PHONE REVIEWS DATA IN PANDAS\n",
    "\n",
    "base_dir = 'C:/Users/bhanu/73 strings/comments'\n",
    "\n",
    "#Get all files in the directory\n",
    "\n",
    "review_df = []#pd.read_json('C:/Users/bhanu/73 strings/B07HGGYWL6.json')\n",
    "for file in os.listdir(base_dir):\n",
    "    json_path = os.path.join(base_dir, file)\n",
    "    json_data = pd.read_json(json_path)\n",
    "    review_df.append(json_data)\n",
    "product_reviews = pd.concat(review_df, ignore_index=True)"
   ]
  },
  {
   "cell_type": "code",
   "execution_count": 3,
   "metadata": {
    "scrolled": false
   },
   "outputs": [
    {
     "name": "stdout",
     "output_type": "stream",
     "text": [
      "Total data: (43693, 5)\n"
     ]
    },
    {
     "data": {
      "text/html": [
       "<div>\n",
       "<style scoped>\n",
       "    .dataframe tbody tr th:only-of-type {\n",
       "        vertical-align: middle;\n",
       "    }\n",
       "\n",
       "    .dataframe tbody tr th {\n",
       "        vertical-align: top;\n",
       "    }\n",
       "\n",
       "    .dataframe thead th {\n",
       "        text-align: right;\n",
       "    }\n",
       "</style>\n",
       "<table border=\"1\" class=\"dataframe\">\n",
       "  <thead>\n",
       "    <tr style=\"text-align: right;\">\n",
       "      <th></th>\n",
       "      <th>body</th>\n",
       "      <th>product_id</th>\n",
       "      <th>rating</th>\n",
       "      <th>review_date</th>\n",
       "      <th>title</th>\n",
       "    </tr>\n",
       "  </thead>\n",
       "  <tbody>\n",
       "    <tr>\n",
       "      <th>0</th>\n",
       "      <td>hanging this phone always</td>\n",
       "      <td>B07DJCJBB3</td>\n",
       "      <td>1</td>\n",
       "      <td>Reviewed in India on 17 October 2020</td>\n",
       "      <td>Not good phone. Don't buy</td>\n",
       "    </tr>\n",
       "    <tr>\n",
       "      <th>1</th>\n",
       "      <td>Heating issue and battery life decreased in ju...</td>\n",
       "      <td>B07DJCJBB3</td>\n",
       "      <td>3</td>\n",
       "      <td>Reviewed in India on 17 October 2020</td>\n",
       "      <td>not as good as expected</td>\n",
       "    </tr>\n",
       "    <tr>\n",
       "      <th>2</th>\n",
       "      <td>Facing lot of problems. Battery is getting dra...</td>\n",
       "      <td>B07DJCJBB3</td>\n",
       "      <td>3</td>\n",
       "      <td>Reviewed in India on 17 October 2020</td>\n",
       "      <td>Samsung should take care of the above malfunct...</td>\n",
       "    </tr>\n",
       "    <tr>\n",
       "      <th>3</th>\n",
       "      <td>like</td>\n",
       "      <td>B07DJCJBB3</td>\n",
       "      <td>5</td>\n",
       "      <td>Reviewed in India on 17 October 2020</td>\n",
       "      <td>Good</td>\n",
       "    </tr>\n",
       "    <tr>\n",
       "      <th>4</th>\n",
       "      <td>Samsung Galaxy M31s phone is HangingCamera qua...</td>\n",
       "      <td>B07DJCJBB3</td>\n",
       "      <td>3</td>\n",
       "      <td>Reviewed in India on 17 October 2020</td>\n",
       "      <td>Don't over expectation</td>\n",
       "    </tr>\n",
       "  </tbody>\n",
       "</table>\n",
       "</div>"
      ],
      "text/plain": [
       "                                                body  product_id  rating  \\\n",
       "0                          hanging this phone always  B07DJCJBB3       1   \n",
       "1  Heating issue and battery life decreased in ju...  B07DJCJBB3       3   \n",
       "2  Facing lot of problems. Battery is getting dra...  B07DJCJBB3       3   \n",
       "3                                               like  B07DJCJBB3       5   \n",
       "4  Samsung Galaxy M31s phone is HangingCamera qua...  B07DJCJBB3       3   \n",
       "\n",
       "                            review_date  \\\n",
       "0  Reviewed in India on 17 October 2020   \n",
       "1  Reviewed in India on 17 October 2020   \n",
       "2  Reviewed in India on 17 October 2020   \n",
       "3  Reviewed in India on 17 October 2020   \n",
       "4  Reviewed in India on 17 October 2020   \n",
       "\n",
       "                                               title  \n",
       "0                          Not good phone. Don't buy  \n",
       "1                            not as good as expected  \n",
       "2  Samsung should take care of the above malfunct...  \n",
       "3                                               Good  \n",
       "4                             Don't over expectation  "
      ]
     },
     "execution_count": 3,
     "metadata": {},
     "output_type": "execute_result"
    }
   ],
   "source": [
    "# CHECK DATA IN PANDAS\n",
    "\n",
    "print (\"Total data:\", str(product_reviews.shape))\n",
    "product_reviews.head()"
   ]
  },
  {
   "cell_type": "code",
   "execution_count": 4,
   "metadata": {},
   "outputs": [
    {
     "name": "stdout",
     "output_type": "stream",
     "text": [
      "<class 'pandas.core.frame.DataFrame'>\n",
      "RangeIndex: 43693 entries, 0 to 43692\n",
      "Data columns (total 5 columns):\n",
      " #   Column       Non-Null Count  Dtype \n",
      "---  ------       --------------  ----- \n",
      " 0   body         43693 non-null  object\n",
      " 1   product_id   43693 non-null  object\n",
      " 2   rating       43693 non-null  int64 \n",
      " 3   review_date  43693 non-null  object\n",
      " 4   title        43693 non-null  object\n",
      "dtypes: int64(1), object(4)\n",
      "memory usage: 1.7+ MB\n"
     ]
    }
   ],
   "source": [
    "product_reviews.info()"
   ]
  },
  {
   "cell_type": "markdown",
   "metadata": {},
   "source": [
    "## Data Wrangling"
   ]
  },
  {
   "cell_type": "code",
   "execution_count": 5,
   "metadata": {},
   "outputs": [
    {
     "data": {
      "text/plain": [
       "array([\"Not good phone. Don't buy\", 'not as good as expected',\n",
       "       'Samsung should take care of the above malfunctioning issues seriously.',\n",
       "       ..., 'Go ..Get it', 'Network issue 🤫 !!!', 'GOOD DEVICE.'],\n",
       "      dtype=object)"
      ]
     },
     "execution_count": 5,
     "metadata": {},
     "output_type": "execute_result"
    }
   ],
   "source": [
    "product_reviews.title.unique()"
   ]
  },
  {
   "cell_type": "code",
   "execution_count": 16,
   "metadata": {},
   "outputs": [],
   "source": [
    "product_reviews.to_csv('C:/Users/bhanu/73 strings/product_reviews.csv', sep=',', encoding='utf-8', index = False)"
   ]
  },
  {
   "cell_type": "code",
   "execution_count": 6,
   "metadata": {},
   "outputs": [
    {
     "name": "stdout",
     "output_type": "stream",
     "text": [
      "Good ratings : 35767 reviews\n",
      "Bad ratings : 7926 reviews\n"
     ]
    }
   ],
   "source": [
    "# Classify ratings as good\n",
    "\n",
    "good_rate = len(product_reviews[product_reviews['rating'] >= 3])\n",
    "bad_rate = len(product_reviews[product_reviews['rating'] < 3])\n",
    "\n",
    "# Printing rates and their total numbers\n",
    "print ('Good ratings : {} reviews'.format(good_rate))\n",
    "print ('Bad ratings : {} reviews'.format(bad_rate))\n"
   ]
  },
  {
   "cell_type": "code",
   "execution_count": 7,
   "metadata": {},
   "outputs": [
    {
     "data": {
      "text/html": [
       "<div>\n",
       "<style scoped>\n",
       "    .dataframe tbody tr th:only-of-type {\n",
       "        vertical-align: middle;\n",
       "    }\n",
       "\n",
       "    .dataframe tbody tr th {\n",
       "        vertical-align: top;\n",
       "    }\n",
       "\n",
       "    .dataframe thead th {\n",
       "        text-align: right;\n",
       "    }\n",
       "</style>\n",
       "<table border=\"1\" class=\"dataframe\">\n",
       "  <thead>\n",
       "    <tr style=\"text-align: right;\">\n",
       "      <th></th>\n",
       "      <th>body</th>\n",
       "      <th>product_id</th>\n",
       "      <th>rating</th>\n",
       "      <th>review_date</th>\n",
       "      <th>title</th>\n",
       "      <th>rating_class</th>\n",
       "    </tr>\n",
       "  </thead>\n",
       "  <tbody>\n",
       "    <tr>\n",
       "      <th>0</th>\n",
       "      <td>hanging this phone always</td>\n",
       "      <td>B07DJCJBB3</td>\n",
       "      <td>1</td>\n",
       "      <td>Reviewed in India on 17 October 2020</td>\n",
       "      <td>Not good phone. Don't buy</td>\n",
       "      <td>bad</td>\n",
       "    </tr>\n",
       "    <tr>\n",
       "      <th>1</th>\n",
       "      <td>Heating issue and battery life decreased in ju...</td>\n",
       "      <td>B07DJCJBB3</td>\n",
       "      <td>3</td>\n",
       "      <td>Reviewed in India on 17 October 2020</td>\n",
       "      <td>not as good as expected</td>\n",
       "      <td>good</td>\n",
       "    </tr>\n",
       "    <tr>\n",
       "      <th>2</th>\n",
       "      <td>Facing lot of problems. Battery is getting dra...</td>\n",
       "      <td>B07DJCJBB3</td>\n",
       "      <td>3</td>\n",
       "      <td>Reviewed in India on 17 October 2020</td>\n",
       "      <td>Samsung should take care of the above malfunct...</td>\n",
       "      <td>good</td>\n",
       "    </tr>\n",
       "    <tr>\n",
       "      <th>3</th>\n",
       "      <td>like</td>\n",
       "      <td>B07DJCJBB3</td>\n",
       "      <td>5</td>\n",
       "      <td>Reviewed in India on 17 October 2020</td>\n",
       "      <td>Good</td>\n",
       "      <td>good</td>\n",
       "    </tr>\n",
       "    <tr>\n",
       "      <th>4</th>\n",
       "      <td>Samsung Galaxy M31s phone is HangingCamera qua...</td>\n",
       "      <td>B07DJCJBB3</td>\n",
       "      <td>3</td>\n",
       "      <td>Reviewed in India on 17 October 2020</td>\n",
       "      <td>Don't over expectation</td>\n",
       "      <td>good</td>\n",
       "    </tr>\n",
       "  </tbody>\n",
       "</table>\n",
       "</div>"
      ],
      "text/plain": [
       "                                                body  product_id  rating  \\\n",
       "0                          hanging this phone always  B07DJCJBB3       1   \n",
       "1  Heating issue and battery life decreased in ju...  B07DJCJBB3       3   \n",
       "2  Facing lot of problems. Battery is getting dra...  B07DJCJBB3       3   \n",
       "3                                               like  B07DJCJBB3       5   \n",
       "4  Samsung Galaxy M31s phone is HangingCamera qua...  B07DJCJBB3       3   \n",
       "\n",
       "                            review_date  \\\n",
       "0  Reviewed in India on 17 October 2020   \n",
       "1  Reviewed in India on 17 October 2020   \n",
       "2  Reviewed in India on 17 October 2020   \n",
       "3  Reviewed in India on 17 October 2020   \n",
       "4  Reviewed in India on 17 October 2020   \n",
       "\n",
       "                                               title rating_class  \n",
       "0                          Not good phone. Don't buy          bad  \n",
       "1                            not as good as expected         good  \n",
       "2  Samsung should take care of the above malfunct...         good  \n",
       "3                                               Good         good  \n",
       "4                             Don't over expectation         good  "
      ]
     },
     "execution_count": 7,
     "metadata": {},
     "output_type": "execute_result"
    }
   ],
   "source": [
    "# Apply the new classification to the ratings column\n",
    "product_reviews['rating_class'] = product_reviews['rating'].apply(lambda x: 'bad' if x < 3 else'good')\n",
    "product_reviews.head()"
   ]
  },
  {
   "cell_type": "code",
   "execution_count": 8,
   "metadata": {},
   "outputs": [
    {
     "data": {
      "text/html": [
       "<div>\n",
       "<style scoped>\n",
       "    .dataframe tbody tr th:only-of-type {\n",
       "        vertical-align: middle;\n",
       "    }\n",
       "\n",
       "    .dataframe tbody tr th {\n",
       "        vertical-align: top;\n",
       "    }\n",
       "\n",
       "    .dataframe thead th {\n",
       "        text-align: right;\n",
       "    }\n",
       "</style>\n",
       "<table border=\"1\" class=\"dataframe\">\n",
       "  <thead>\n",
       "    <tr style=\"text-align: right;\">\n",
       "      <th></th>\n",
       "      <th>body</th>\n",
       "      <th>product_id</th>\n",
       "      <th>rating</th>\n",
       "      <th>review_date</th>\n",
       "      <th>title</th>\n",
       "      <th>rating_class</th>\n",
       "    </tr>\n",
       "  </thead>\n",
       "  <tbody>\n",
       "    <tr>\n",
       "      <th>0</th>\n",
       "      <td>hanging this phone always</td>\n",
       "      <td>B07DJCJBB3</td>\n",
       "      <td>1</td>\n",
       "      <td>2020-10-17</td>\n",
       "      <td>Not good phone. Don't buy</td>\n",
       "      <td>bad</td>\n",
       "    </tr>\n",
       "    <tr>\n",
       "      <th>1</th>\n",
       "      <td>Heating issue and battery life decreased in ju...</td>\n",
       "      <td>B07DJCJBB3</td>\n",
       "      <td>3</td>\n",
       "      <td>2020-10-17</td>\n",
       "      <td>not as good as expected</td>\n",
       "      <td>good</td>\n",
       "    </tr>\n",
       "    <tr>\n",
       "      <th>2</th>\n",
       "      <td>Facing lot of problems. Battery is getting dra...</td>\n",
       "      <td>B07DJCJBB3</td>\n",
       "      <td>3</td>\n",
       "      <td>2020-10-17</td>\n",
       "      <td>Samsung should take care of the above malfunct...</td>\n",
       "      <td>good</td>\n",
       "    </tr>\n",
       "    <tr>\n",
       "      <th>3</th>\n",
       "      <td>like</td>\n",
       "      <td>B07DJCJBB3</td>\n",
       "      <td>5</td>\n",
       "      <td>2020-10-17</td>\n",
       "      <td>Good</td>\n",
       "      <td>good</td>\n",
       "    </tr>\n",
       "    <tr>\n",
       "      <th>4</th>\n",
       "      <td>Samsung Galaxy M31s phone is HangingCamera qua...</td>\n",
       "      <td>B07DJCJBB3</td>\n",
       "      <td>3</td>\n",
       "      <td>2020-10-17</td>\n",
       "      <td>Don't over expectation</td>\n",
       "      <td>good</td>\n",
       "    </tr>\n",
       "  </tbody>\n",
       "</table>\n",
       "</div>"
      ],
      "text/plain": [
       "                                                body  product_id  rating  \\\n",
       "0                          hanging this phone always  B07DJCJBB3       1   \n",
       "1  Heating issue and battery life decreased in ju...  B07DJCJBB3       3   \n",
       "2  Facing lot of problems. Battery is getting dra...  B07DJCJBB3       3   \n",
       "3                                               like  B07DJCJBB3       5   \n",
       "4  Samsung Galaxy M31s phone is HangingCamera qua...  B07DJCJBB3       3   \n",
       "\n",
       "  review_date                                              title rating_class  \n",
       "0  2020-10-17                          Not good phone. Don't buy          bad  \n",
       "1  2020-10-17                            not as good as expected         good  \n",
       "2  2020-10-17  Samsung should take care of the above malfunct...         good  \n",
       "3  2020-10-17                                               Good         good  \n",
       "4  2020-10-17                             Don't over expectation         good  "
      ]
     },
     "execution_count": 8,
     "metadata": {},
     "output_type": "execute_result"
    }
   ],
   "source": [
    "# Convert time object to datetime\n",
    "product_reviews['review_date'] = product_reviews.review_date.str.replace('Reviewed in India on ', \"\")\n",
    "\n",
    "product_reviews['review_date'] = pd.to_datetime(product_reviews['review_date'], format = '%d %B %Y')\n",
    "\n",
    "product_reviews.head()"
   ]
  },
  {
   "cell_type": "code",
   "execution_count": 18,
   "metadata": {},
   "outputs": [],
   "source": [
    "# Convert product_id to mobile phone names\n",
    "product_reviews['product_id'] = product_reviews.product_id.str.replace('B07DJCJBB3', \"Samsung Galaxy M31s\")\n",
    "product_reviews['product_id'] = product_reviews.product_id.str.replace('B07HGGYWL6', \"Samsung Galaxy M31\")\n",
    "product_reviews['product_id'] = product_reviews.product_id.str.replace('B07HGJJ559', \"Samsung Galaxy M21\")\n",
    "product_reviews['product_id'] = product_reviews.product_id.str.replace('B07SDPJ4XJ', \"OPPO A5\")\n",
    "product_reviews['product_id'] = product_reviews.product_id.str.replace('B07WPVLKPW', \"Redmi 8A Sea Blue 3GB\")\n",
    "product_reviews['product_id'] = product_reviews.product_id.str.replace('B07X1KT6LD', \"Redmi Note 8\")\n",
    "product_reviews['product_id'] = product_reviews.product_id.str.replace('B07X3P1N3H', \"Redmi 8A Sky White\")\n",
    "product_reviews['product_id'] = product_reviews.product_id.str.replace('B07X4R63DF', \"Redmi 8A Sea Blue 2GB\")\n",
    "product_reviews['product_id'] = product_reviews.product_id.str.replace('B07YYNX5X6', \"Nokia 105\")\n",
    "product_reviews['product_id'] = product_reviews.product_id.str.replace('B086KCCMCP', \"Samsung Galaxy M01\")"
   ]
  },
  {
   "cell_type": "code",
   "execution_count": 22,
   "metadata": {},
   "outputs": [],
   "source": [
    "# Concatenate title and body\n",
    "product_reviews['review_text'] = product_reviews[['title', 'body']].apply(lambda x: \" \".join(str(y) for y in x if str(y) != 'nan'), axis = 1)"
   ]
  },
  {
   "cell_type": "code",
   "execution_count": 25,
   "metadata": {},
   "outputs": [
    {
     "data": {
      "text/html": [
       "<div>\n",
       "<style scoped>\n",
       "    .dataframe tbody tr th:only-of-type {\n",
       "        vertical-align: middle;\n",
       "    }\n",
       "\n",
       "    .dataframe tbody tr th {\n",
       "        vertical-align: top;\n",
       "    }\n",
       "\n",
       "    .dataframe thead th {\n",
       "        text-align: right;\n",
       "    }\n",
       "</style>\n",
       "<table border=\"1\" class=\"dataframe\">\n",
       "  <thead>\n",
       "    <tr style=\"text-align: right;\">\n",
       "      <th></th>\n",
       "      <th>body</th>\n",
       "      <th>product_id</th>\n",
       "      <th>rating</th>\n",
       "      <th>review_date</th>\n",
       "      <th>title</th>\n",
       "      <th>rating_class</th>\n",
       "      <th>review_text</th>\n",
       "    </tr>\n",
       "  </thead>\n",
       "  <tbody>\n",
       "    <tr>\n",
       "      <th>0</th>\n",
       "      <td>hanging this phone always</td>\n",
       "      <td>Samsung Galaxy M31s</td>\n",
       "      <td>1</td>\n",
       "      <td>2020-10-17</td>\n",
       "      <td>Not good phone. Don't buy</td>\n",
       "      <td>bad</td>\n",
       "      <td>Not good phone. Don't buy hanging this phone a...</td>\n",
       "    </tr>\n",
       "    <tr>\n",
       "      <th>1</th>\n",
       "      <td>Heating issue and battery life decreased in ju...</td>\n",
       "      <td>Samsung Galaxy M31s</td>\n",
       "      <td>3</td>\n",
       "      <td>2020-10-17</td>\n",
       "      <td>not as good as expected</td>\n",
       "      <td>good</td>\n",
       "      <td>not as good as expected Heating issue and batt...</td>\n",
       "    </tr>\n",
       "    <tr>\n",
       "      <th>2</th>\n",
       "      <td>Facing lot of problems. Battery is getting dra...</td>\n",
       "      <td>Samsung Galaxy M31s</td>\n",
       "      <td>3</td>\n",
       "      <td>2020-10-17</td>\n",
       "      <td>Samsung should take care of the above malfunct...</td>\n",
       "      <td>good</td>\n",
       "      <td>Samsung should take care of the above malfunct...</td>\n",
       "    </tr>\n",
       "    <tr>\n",
       "      <th>3</th>\n",
       "      <td>like</td>\n",
       "      <td>Samsung Galaxy M31s</td>\n",
       "      <td>5</td>\n",
       "      <td>2020-10-17</td>\n",
       "      <td>Good</td>\n",
       "      <td>good</td>\n",
       "      <td>Good like</td>\n",
       "    </tr>\n",
       "    <tr>\n",
       "      <th>4</th>\n",
       "      <td>Samsung Galaxy M31s phone is HangingCamera qua...</td>\n",
       "      <td>Samsung Galaxy M31s</td>\n",
       "      <td>3</td>\n",
       "      <td>2020-10-17</td>\n",
       "      <td>Don't over expectation</td>\n",
       "      <td>good</td>\n",
       "      <td>Don't over expectation Samsung Galaxy M31s pho...</td>\n",
       "    </tr>\n",
       "  </tbody>\n",
       "</table>\n",
       "</div>"
      ],
      "text/plain": [
       "                                                body           product_id  \\\n",
       "0                          hanging this phone always  Samsung Galaxy M31s   \n",
       "1  Heating issue and battery life decreased in ju...  Samsung Galaxy M31s   \n",
       "2  Facing lot of problems. Battery is getting dra...  Samsung Galaxy M31s   \n",
       "3                                               like  Samsung Galaxy M31s   \n",
       "4  Samsung Galaxy M31s phone is HangingCamera qua...  Samsung Galaxy M31s   \n",
       "\n",
       "   rating review_date                                              title  \\\n",
       "0       1  2020-10-17                          Not good phone. Don't buy   \n",
       "1       3  2020-10-17                            not as good as expected   \n",
       "2       3  2020-10-17  Samsung should take care of the above malfunct...   \n",
       "3       5  2020-10-17                                               Good   \n",
       "4       3  2020-10-17                             Don't over expectation   \n",
       "\n",
       "  rating_class                                        review_text  \n",
       "0          bad  Not good phone. Don't buy hanging this phone a...  \n",
       "1         good  not as good as expected Heating issue and batt...  \n",
       "2         good  Samsung should take care of the above malfunct...  \n",
       "3         good                                          Good like  \n",
       "4         good  Don't over expectation Samsung Galaxy M31s pho...  "
      ]
     },
     "execution_count": 25,
     "metadata": {},
     "output_type": "execute_result"
    }
   ],
   "source": [
    "product_reviews.head()"
   ]
  },
  {
   "cell_type": "code",
   "execution_count": 26,
   "metadata": {},
   "outputs": [
    {
     "name": "stdout",
     "output_type": "stream",
     "text": [
      "================================================\n",
      "Number of reviews:  43693\n",
      "\n",
      "Number of unique products:  10\n",
      "Prop of unique products:  0.0\n",
      "\n",
      "Average rating score:  3.904\n",
      "================================================\n"
     ]
    }
   ],
   "source": [
    "# DESCRIPTIVE STATISTICS\n",
    "\n",
    "print (\"================================================\")\n",
    "\n",
    "### Total reviews\n",
    "total = len(product_reviews)\n",
    "print (\"Number of reviews: \",total)\n",
    "print ()\n",
    "\n",
    "### How many unique products?\n",
    "print (\"Number of unique products: \", len(product_reviews.product_id.unique()))\n",
    "product_prop = float(len(product_reviews.product_id.unique())/total)\n",
    "print (\"Prop of unique products: \",round(product_prop,3))\n",
    "print ()\n",
    "\n",
    "### Average star score\n",
    "print (\"Average rating score: \",round(product_reviews.rating.mean(),3))\n",
    "\n",
    "\n",
    "print (\"================================================\")"
   ]
  },
  {
   "cell_type": "code",
   "execution_count": 27,
   "metadata": {},
   "outputs": [
    {
     "data": {
      "text/html": [
       "<div>\n",
       "<style scoped>\n",
       "    .dataframe tbody tr th:only-of-type {\n",
       "        vertical-align: middle;\n",
       "    }\n",
       "\n",
       "    .dataframe tbody tr th {\n",
       "        vertical-align: top;\n",
       "    }\n",
       "\n",
       "    .dataframe thead th {\n",
       "        text-align: right;\n",
       "    }\n",
       "</style>\n",
       "<table border=\"1\" class=\"dataframe\">\n",
       "  <thead>\n",
       "    <tr style=\"text-align: right;\">\n",
       "      <th></th>\n",
       "      <th>rating</th>\n",
       "    </tr>\n",
       "  </thead>\n",
       "  <tbody>\n",
       "    <tr>\n",
       "      <th>count</th>\n",
       "      <td>43693.000000</td>\n",
       "    </tr>\n",
       "    <tr>\n",
       "      <th>mean</th>\n",
       "      <td>3.903715</td>\n",
       "    </tr>\n",
       "    <tr>\n",
       "      <th>std</th>\n",
       "      <td>1.411313</td>\n",
       "    </tr>\n",
       "    <tr>\n",
       "      <th>min</th>\n",
       "      <td>1.000000</td>\n",
       "    </tr>\n",
       "    <tr>\n",
       "      <th>25%</th>\n",
       "      <td>3.000000</td>\n",
       "    </tr>\n",
       "    <tr>\n",
       "      <th>50%</th>\n",
       "      <td>4.000000</td>\n",
       "    </tr>\n",
       "    <tr>\n",
       "      <th>75%</th>\n",
       "      <td>5.000000</td>\n",
       "    </tr>\n",
       "    <tr>\n",
       "      <th>max</th>\n",
       "      <td>5.000000</td>\n",
       "    </tr>\n",
       "  </tbody>\n",
       "</table>\n",
       "</div>"
      ],
      "text/plain": [
       "             rating\n",
       "count  43693.000000\n",
       "mean       3.903715\n",
       "std        1.411313\n",
       "min        1.000000\n",
       "25%        3.000000\n",
       "50%        4.000000\n",
       "75%        5.000000\n",
       "max        5.000000"
      ]
     },
     "execution_count": 27,
     "metadata": {},
     "output_type": "execute_result"
    }
   ],
   "source": [
    "# Read statistic summary of numeric variables\n",
    "product_reviews[['rating']].describe()"
   ]
  },
  {
   "cell_type": "code",
   "execution_count": 28,
   "metadata": {},
   "outputs": [
    {
     "data": {
      "text/plain": [
       "Text(0, 0.5, 'Number of Reviews')"
      ]
     },
     "execution_count": 28,
     "metadata": {},
     "output_type": "execute_result"
    },
    {
     "data": {
      "image/png": "[encoded data removed]",
      "text/plain": [
       "<Figure size 864x576 with 1 Axes>"
      ]
     },
     "metadata": {
      "needs_background": "light"
     },
     "output_type": "display_data"
    }
   ],
   "source": [
    "# PLOT DISTRIBUTION OF RATING \n",
    "\n",
    "plt.figure(figsize=(12,8))\n",
    "product_reviews['rating'].value_counts().sort_index().plot(kind='bar')\n",
    "plt.title('Distribution of Rating')\n",
    "plt.xlabel('Rating')\n",
    "plt.ylabel('Number of Reviews')"
   ]
  },
  {
   "cell_type": "code",
   "execution_count": 29,
   "metadata": {},
   "outputs": [
    {
     "data": {
      "text/plain": [
       "rating\n",
       "1     6084\n",
       "2     1842\n",
       "3     3789\n",
       "4    10460\n",
       "5    21518\n",
       "dtype: int64"
      ]
     },
     "execution_count": 29,
     "metadata": {},
     "output_type": "execute_result"
    }
   ],
   "source": [
    "# DISTRIBUTION OF RATING SCORE\n",
    "\n",
    "class_counts = product_reviews.groupby('rating').size()\n",
    "class_counts"
   ]
  },
  {
   "cell_type": "code",
   "execution_count": 30,
   "metadata": {},
   "outputs": [
    {
     "data": {
      "text/plain": [
       "good    35767\n",
       "bad      7926\n",
       "Name: rating_class, dtype: int64"
      ]
     },
     "execution_count": 30,
     "metadata": {},
     "output_type": "execute_result"
    }
   ],
   "source": [
    "# Customer totals for each rating class\n",
    "product_reviews['rating_class'].value_counts()"
   ]
  },
  {
   "cell_type": "code",
   "execution_count": 31,
   "metadata": {},
   "outputs": [
    {
     "name": "stdout",
     "output_type": "stream",
     "text": [
      "\n",
      "Number of unique products : 10\n",
      "\n",
      "Review per product: 4369.3\n"
     ]
    }
   ],
   "source": [
    "# Statistics of non-numeric variables\n",
    "      \n",
    "# Number of unique products\n",
    "print('\\nNumber of unique products : {}'.format(len(product_reviews['product_id'].unique())))     \n",
    "\n",
    "# Review number per unique product \n",
    "print('\\nReview per product: {}'.format((len(product_reviews)/len(product_reviews['product_id'].unique()))))\n"
   ]
  },
  {
   "cell_type": "markdown",
   "metadata": {},
   "source": [
    "## Text Preprocessing¶\n",
    "The following text preprocessing are implemented to convert raw reviews to cleaned review, so that it will be easier for us to do feature extraction in the next step.\n",
    "\n",
    "\n"
   ]
  },
  {
   "cell_type": "code",
   "execution_count": 32,
   "metadata": {},
   "outputs": [
    {
     "name": "stdout",
     "output_type": "stream",
     "text": [
      "[nltk_data] Downloading package punkt to\n",
      "[nltk_data]     C:\\Users\\bhanu\\AppData\\Roaming\\nltk_data...\n",
      "[nltk_data]   Package punkt is already up-to-date!\n",
      "[nltk_data] Downloading package stopwords to\n",
      "[nltk_data]     C:\\Users\\bhanu\\AppData\\Roaming\\nltk_data...\n",
      "[nltk_data]   Package stopwords is already up-to-date!\n",
      "[nltk_data] Downloading package wordnet to\n",
      "[nltk_data]     C:\\Users\\bhanu\\AppData\\Roaming\\nltk_data...\n",
      "[nltk_data]   Package wordnet is already up-to-date!\n"
     ]
    }
   ],
   "source": [
    "import nltk\n",
    "nltk.download('punkt')\n",
    "nltk.download('stopwords')\n",
    "nltk.download('wordnet')\n",
    "from nltk.corpus import stopwords\n",
    "from bs4 import BeautifulSoup\n",
    "import unicodedata\n",
    "from nltk.stem import WordNetLemmatizer\n",
    "from nltk.tokenize import word_tokenize, sent_tokenize, regexp_tokenize \n",
    "from nltk.stem import PorterStemmer, WordNetLemmatizer\n",
    "import re\n",
    "import json"
   ]
  },
  {
   "cell_type": "code",
   "execution_count": 33,
   "metadata": {},
   "outputs": [
    {
     "name": "stdout",
     "output_type": "stream",
     "text": [
      "Number of raw tokens: 866487\n"
     ]
    }
   ],
   "source": [
    "# calculate raw tokens in order to measure of cleaned tokens\n",
    "\n",
    "from nltk.tokenize import word_tokenize\n",
    "raw_tokens=len([w for t in (product_reviews['review_text'].apply(word_tokenize)) for w in t])\n",
    "print('Number of raw tokens: {}'.format(raw_tokens))\n"
   ]
  },
  {
   "cell_type": "markdown",
   "metadata": {},
   "source": [
    "## Functions for Preprocessing¶\n"
   ]
  },
  {
   "cell_type": "markdown",
   "metadata": {},
   "source": [
    "### Removing Special Characters¶\n",
    "One important task in text normalization involves removing unnecessary and special characters. These may be special symbols or even punctuation that occurs in sentences. This step is often performed before or after tokenization. The main reason for doing so is because often punctuation or special characters do not have much significance when we analyze the text and utilize it for extracting features or information based on NLP and ML.\n",
    "\n"
   ]
  },
  {
   "cell_type": "markdown",
   "metadata": {},
   "source": [
    "### Tokenizing Text¶\n",
    "Tokenization can be defined as the process of breaking down or splitting textual data into smaller meaningful components called tokens.\n",
    "\n",
    "Sentence tokenization is the process of splitting a text corpus into sentences that act as the first level of tokens which the corpus is comprised of. This is also known as sentence segmentation , because we try to segment the text into meaningful sentences.\n",
    "\n",
    "Word tokenization is the process of splitting or segmenting sentences into their constituent words. A sentence is a collection of words, and with tokenization we essentially split a sentence into a list of words that can be used to reconstruct the sentence.\n",
    "\n"
   ]
  },
  {
   "cell_type": "markdown",
   "metadata": {},
   "source": [
    "### Removing Stopwords¶\n",
    "Stopwords are words that have little or no significance. They are usually removed from text during processing so as to retain words having maximum significance and context. Stopwords are usually words that end up occurring the most if you aggregated any corpus of text based on singular tokens and checked their frequencies. Words like a, the , me , and so on are stopwords.\n",
    "\n"
   ]
  },
  {
   "cell_type": "markdown",
   "metadata": {},
   "source": [
    "### Correcting Words¶\n",
    "One of the main challenges faced in text normalization is the presence of incorrect words in the text. The definition of incorrect here covers words that have spelling mistakes as well as words with several letters repeated that do not contribute much to its overall significance.\n",
    "\n"
   ]
  },
  {
   "cell_type": "markdown",
   "metadata": {},
   "source": [
    "#### Correcting Repeating Characters"
   ]
  },
  {
   "cell_type": "markdown",
   "metadata": {},
   "source": [
    "#### Correcting Spellings"
   ]
  },
  {
   "cell_type": "markdown",
   "metadata": {},
   "source": [
    "### Lemmatization¶\n",
    "The process of lemmatization is to remove word affixes to get to a base form of the word. The base form is also known as the root word, or the lemma, will always be present in the dictionary.\n",
    "\n"
   ]
  },
  {
   "cell_type": "code",
   "execution_count": 34,
   "metadata": {},
   "outputs": [],
   "source": [
    "import re, string, unicodedata\n",
    "import nltk\n",
    "from bs4 import BeautifulSoup\n",
    "from nltk import word_tokenize, sent_tokenize\n",
    "from nltk.corpus import stopwords\n",
    "from nltk.stem.lancaster import LancasterStemmer\n",
    "from nltk.stem import WordNetLemmatizer"
   ]
  },
  {
   "cell_type": "code",
   "execution_count": 45,
   "metadata": {},
   "outputs": [],
   "source": [
    "def strip_html(text):\n",
    "    soup = BeautifulSoup(text, \"html.parser\")\n",
    "    return soup.get_text()\n",
    "\n",
    "def remove_between_square_brackets(text):\n",
    "    return re.sub('\\[[^]]*\\]', '', text)\n",
    "\n",
    "def denoise_text(text):\n",
    "    text = strip_html(text)\n",
    "    text = remove_between_square_brackets(text)\n",
    "    return text\n",
    "\n",
    "# Function to remove emoji.\n",
    "def emoji(text):\n",
    "    emoji_pattern = re.compile(\"[\"\n",
    "                           u\"\\U0001F600-\\U0001F64F\"  # emoticons\n",
    "                           u\"\\U0001F300-\\U0001F5FF\"  # symbols & pictographs\n",
    "                           u\"\\U0001F680-\\U0001F6FF\"  # transport & map symbols\n",
    "                           u\"\\U0001F1E0-\\U0001F1FF\"  # flags (iOS)\n",
    "                           u\"\\U00002702-\\U000027B0\"\n",
    "                           u\"\\U000024C2-\\U0001F251\"\n",
    "                           \"]+\", flags=re.UNICODE)\n",
    "    return emoji_pattern.sub(r'', text)\n",
    "\n",
    "# special_characters removal\n",
    "def remove_special_characters(text, remove_digits=True):\n",
    "    pattern = r'[^a-zA-z0-9\\s]' if not remove_digits else r'[^a-zA-z\\s]'\n",
    "    text = re.sub(pattern, '', text)\n",
    "    return text\n",
    "\n",
    "\n",
    "def remove_non_ascii(words):\n",
    "    \"\"\"Remove non-ASCII characters from list of tokenized words\"\"\"\n",
    "    new_words = []\n",
    "    for word in words:\n",
    "        new_word = unicodedata.normalize('NFKD', word).encode('ascii', 'ignore').decode('utf-8', 'ignore')\n",
    "        new_words.append(new_word)\n",
    "    return new_words\n",
    "\n",
    "def to_lowercase(words):\n",
    "    \"\"\"Convert all characters to lowercase from list of tokenized words\"\"\"\n",
    "    new_words = []\n",
    "    for word in words:\n",
    "        new_word = word.lower()\n",
    "        new_words.append(new_word)\n",
    "    return new_words\n",
    "\n",
    "\n",
    "def remove_punctuation_and_splchars(words):\n",
    "    \"\"\"Remove punctuation from list of tokenized words\"\"\"\n",
    "    new_words = []\n",
    "    for word in words:\n",
    "        new_word = re.sub(r'[^\\w\\s]', '', word)\n",
    "        if new_word != '':\n",
    "            new_word = remove_special_characters(new_word, True)\n",
    "            new_words.append(new_word)\n",
    "    return new_words\n",
    "\n",
    "def replace_numbers(words):\n",
    "    \"\"\"Replace all interger occurrences in list of tokenized words with textual representation\"\"\"\n",
    "    p = inflect.engine()\n",
    "    new_words = []\n",
    "    for word in words:\n",
    "        if word.isdigit():\n",
    "            new_word = p.number_to_words(word)\n",
    "            new_words.append(new_word)\n",
    "        else:\n",
    "            new_words.append(word)\n",
    "    return new_words\n",
    "\n",
    "stopword_list= stopwords.words('english')\n",
    "stopword_list.remove('no')\n",
    "stopword_list.remove('not')\n",
    "\n",
    "\n",
    "def remove_stopwords(words):\n",
    "    \"\"\"Remove stop words from list of tokenized words\"\"\"\n",
    "    new_words = []\n",
    "    for word in words:\n",
    "        if word not in stopword_list:\n",
    "            new_words.append(word)\n",
    "    return new_words\n",
    "\n",
    "def stem_words(words):\n",
    "    \"\"\"Stem words in list of tokenized words\"\"\"\n",
    "    stemmer = LancasterStemmer()\n",
    "    stems = []\n",
    "    for word in words:\n",
    "        stem = stemmer.stem(word)\n",
    "        stems.append(stem)\n",
    "    return stems\n",
    "\n",
    "def lemmatize_verbs(words):\n",
    "    \"\"\"Lemmatize verbs in list of tokenized words\"\"\"\n",
    "    lemmatizer = WordNetLemmatizer()\n",
    "    lemmas = []\n",
    "    for word in words:\n",
    "        lemma = lemmatizer.lemmatize(word, pos='v')\n",
    "        lemmas.append(lemma)\n",
    "    return lemmas\n",
    "\n",
    "def normalize(words):\n",
    "    words = remove_non_ascii(words)\n",
    "    words = to_lowercase(words)\n",
    "    words = remove_punctuation_and_splchars(words)\n",
    "    words = remove_stopwords(words)\n",
    "    return words\n",
    "\n",
    "def lemmatize(words):\n",
    "    lemmas = lemmatize_verbs(words)\n",
    "    return lemmas\n"
   ]
  },
  {
   "cell_type": "code",
   "execution_count": 46,
   "metadata": {},
   "outputs": [],
   "source": [
    "def normalize_and_lemmaize(input):\n",
    "    sample = denoise_text(input)\n",
    "    sample = emoji(sample)\n",
    "    sample = remove_special_characters(sample)\n",
    "    words = nltk.word_tokenize(sample)\n",
    "    words = normalize(words)\n",
    "    lemmas = lemmatize(words)\n",
    "    return ' '.join(lemmas)\n"
   ]
  },
  {
   "cell_type": "code",
   "execution_count": 47,
   "metadata": {},
   "outputs": [],
   "source": [
    "product_reviews['clean_text'] = product_reviews['review_text'].map(lambda text: normalize_and_lemmaize(text))"
   ]
  },
  {
   "cell_type": "code",
   "execution_count": 48,
   "metadata": {
    "scrolled": true
   },
   "outputs": [
    {
     "data": {
      "text/html": [
       "<div>\n",
       "<style scoped>\n",
       "    .dataframe tbody tr th:only-of-type {\n",
       "        vertical-align: middle;\n",
       "    }\n",
       "\n",
       "    .dataframe tbody tr th {\n",
       "        vertical-align: top;\n",
       "    }\n",
       "\n",
       "    .dataframe thead th {\n",
       "        text-align: right;\n",
       "    }\n",
       "</style>\n",
       "<table border=\"1\" class=\"dataframe\">\n",
       "  <thead>\n",
       "    <tr style=\"text-align: right;\">\n",
       "      <th></th>\n",
       "      <th>body</th>\n",
       "      <th>product_id</th>\n",
       "      <th>rating</th>\n",
       "      <th>review_date</th>\n",
       "      <th>title</th>\n",
       "      <th>rating_class</th>\n",
       "      <th>review_text</th>\n",
       "      <th>clean_text</th>\n",
       "    </tr>\n",
       "  </thead>\n",
       "  <tbody>\n",
       "    <tr>\n",
       "      <th>0</th>\n",
       "      <td>hanging this phone always</td>\n",
       "      <td>Samsung Galaxy M31s</td>\n",
       "      <td>1</td>\n",
       "      <td>2020-10-17</td>\n",
       "      <td>Not good phone. Don't buy</td>\n",
       "      <td>bad</td>\n",
       "      <td>Not good phone. Don't buy hanging this phone a...</td>\n",
       "      <td>not good phone dont buy hang phone always</td>\n",
       "    </tr>\n",
       "    <tr>\n",
       "      <th>1</th>\n",
       "      <td>Heating issue and battery life decreased in ju...</td>\n",
       "      <td>Samsung Galaxy M31s</td>\n",
       "      <td>3</td>\n",
       "      <td>2020-10-17</td>\n",
       "      <td>not as good as expected</td>\n",
       "      <td>good</td>\n",
       "      <td>not as good as expected Heating issue and batt...</td>\n",
       "      <td>not good expect heat issue battery life decrea...</td>\n",
       "    </tr>\n",
       "    <tr>\n",
       "      <th>2</th>\n",
       "      <td>Facing lot of problems. Battery is getting dra...</td>\n",
       "      <td>Samsung Galaxy M31s</td>\n",
       "      <td>3</td>\n",
       "      <td>2020-10-17</td>\n",
       "      <td>Samsung should take care of the above malfunct...</td>\n",
       "      <td>good</td>\n",
       "      <td>Samsung should take care of the above malfunct...</td>\n",
       "      <td>samsung take care malfunction issue seriously ...</td>\n",
       "    </tr>\n",
       "    <tr>\n",
       "      <th>3</th>\n",
       "      <td>like</td>\n",
       "      <td>Samsung Galaxy M31s</td>\n",
       "      <td>5</td>\n",
       "      <td>2020-10-17</td>\n",
       "      <td>Good</td>\n",
       "      <td>good</td>\n",
       "      <td>Good like</td>\n",
       "      <td>good like</td>\n",
       "    </tr>\n",
       "    <tr>\n",
       "      <th>4</th>\n",
       "      <td>Samsung Galaxy M31s phone is HangingCamera qua...</td>\n",
       "      <td>Samsung Galaxy M31s</td>\n",
       "      <td>3</td>\n",
       "      <td>2020-10-17</td>\n",
       "      <td>Don't over expectation</td>\n",
       "      <td>good</td>\n",
       "      <td>Don't over expectation Samsung Galaxy M31s pho...</td>\n",
       "      <td>dont expectation samsung galaxy ms phone hangi...</td>\n",
       "    </tr>\n",
       "    <tr>\n",
       "      <th>...</th>\n",
       "      <td>...</td>\n",
       "      <td>...</td>\n",
       "      <td>...</td>\n",
       "      <td>...</td>\n",
       "      <td>...</td>\n",
       "      <td>...</td>\n",
       "      <td>...</td>\n",
       "      <td>...</td>\n",
       "    </tr>\n",
       "    <tr>\n",
       "      <th>43688</th>\n",
       "      <td>Gud compact phone</td>\n",
       "      <td>Samsung Galaxy M01</td>\n",
       "      <td>5</td>\n",
       "      <td>2020-06-08</td>\n",
       "      <td>Gud phone</td>\n",
       "      <td>good</td>\n",
       "      <td>Gud phone Gud compact phone</td>\n",
       "      <td>gud phone gud compact phone</td>\n",
       "    </tr>\n",
       "    <tr>\n",
       "      <th>43689</th>\n",
       "      <td>Network issue 🤫 !!!</td>\n",
       "      <td>Samsung Galaxy M01</td>\n",
       "      <td>3</td>\n",
       "      <td>2020-06-04</td>\n",
       "      <td>Network issue 🤫 !!!</td>\n",
       "      <td>good</td>\n",
       "      <td>Network issue 🤫 !!! Network issue 🤫 !!!</td>\n",
       "      <td>network issue network issue</td>\n",
       "    </tr>\n",
       "    <tr>\n",
       "      <th>43690</th>\n",
       "      <td>Excellent</td>\n",
       "      <td>Samsung Galaxy M01</td>\n",
       "      <td>5</td>\n",
       "      <td>2020-06-02</td>\n",
       "      <td>Excellent!!!</td>\n",
       "      <td>good</td>\n",
       "      <td>Excellent!!! Excellent</td>\n",
       "      <td>excellent excellent</td>\n",
       "    </tr>\n",
       "    <tr>\n",
       "      <th>43691</th>\n",
       "      <td>No fingerprint</td>\n",
       "      <td>Samsung Galaxy M01</td>\n",
       "      <td>3</td>\n",
       "      <td>2020-06-02</td>\n",
       "      <td>No fingerprint</td>\n",
       "      <td>good</td>\n",
       "      <td>No fingerprint No fingerprint</td>\n",
       "      <td>no fingerprint no fingerprint</td>\n",
       "    </tr>\n",
       "    <tr>\n",
       "      <th>43692</th>\n",
       "      <td>😁BALANCED PHONE AT THIS PRICE😁Made in 🇮🇳😁EXCEL...</td>\n",
       "      <td>Samsung Galaxy M01</td>\n",
       "      <td>5</td>\n",
       "      <td>2020-06-02</td>\n",
       "      <td>GOOD DEVICE.</td>\n",
       "      <td>good</td>\n",
       "      <td>GOOD DEVICE. 😁BALANCED PHONE AT THIS PRICE😁Mad...</td>\n",
       "      <td>good device balance phone pricemade excellent ...</td>\n",
       "    </tr>\n",
       "  </tbody>\n",
       "</table>\n",
       "<p>43693 rows × 8 columns</p>\n",
       "</div>"
      ],
      "text/plain": [
       "                                                    body           product_id  \\\n",
       "0                              hanging this phone always  Samsung Galaxy M31s   \n",
       "1      Heating issue and battery life decreased in ju...  Samsung Galaxy M31s   \n",
       "2      Facing lot of problems. Battery is getting dra...  Samsung Galaxy M31s   \n",
       "3                                                   like  Samsung Galaxy M31s   \n",
       "4      Samsung Galaxy M31s phone is HangingCamera qua...  Samsung Galaxy M31s   \n",
       "...                                                  ...                  ...   \n",
       "43688                                  Gud compact phone   Samsung Galaxy M01   \n",
       "43689                                Network issue 🤫 !!!   Samsung Galaxy M01   \n",
       "43690                                          Excellent   Samsung Galaxy M01   \n",
       "43691                                     No fingerprint   Samsung Galaxy M01   \n",
       "43692  😁BALANCED PHONE AT THIS PRICE😁Made in 🇮🇳😁EXCEL...   Samsung Galaxy M01   \n",
       "\n",
       "       rating review_date                                              title  \\\n",
       "0           1  2020-10-17                          Not good phone. Don't buy   \n",
       "1           3  2020-10-17                            not as good as expected   \n",
       "2           3  2020-10-17  Samsung should take care of the above malfunct...   \n",
       "3           5  2020-10-17                                               Good   \n",
       "4           3  2020-10-17                             Don't over expectation   \n",
       "...       ...         ...                                                ...   \n",
       "43688       5  2020-06-08                                          Gud phone   \n",
       "43689       3  2020-06-04                                Network issue 🤫 !!!   \n",
       "43690       5  2020-06-02                                       Excellent!!!   \n",
       "43691       3  2020-06-02                                     No fingerprint   \n",
       "43692       5  2020-06-02                                       GOOD DEVICE.   \n",
       "\n",
       "      rating_class                                        review_text  \\\n",
       "0              bad  Not good phone. Don't buy hanging this phone a...   \n",
       "1             good  not as good as expected Heating issue and batt...   \n",
       "2             good  Samsung should take care of the above malfunct...   \n",
       "3             good                                          Good like   \n",
       "4             good  Don't over expectation Samsung Galaxy M31s pho...   \n",
       "...            ...                                                ...   \n",
       "43688         good                        Gud phone Gud compact phone   \n",
       "43689         good            Network issue 🤫 !!! Network issue 🤫 !!!   \n",
       "43690         good                             Excellent!!! Excellent   \n",
       "43691         good                      No fingerprint No fingerprint   \n",
       "43692         good  GOOD DEVICE. 😁BALANCED PHONE AT THIS PRICE😁Mad...   \n",
       "\n",
       "                                              clean_text  \n",
       "0              not good phone dont buy hang phone always  \n",
       "1      not good expect heat issue battery life decrea...  \n",
       "2      samsung take care malfunction issue seriously ...  \n",
       "3                                              good like  \n",
       "4      dont expectation samsung galaxy ms phone hangi...  \n",
       "...                                                  ...  \n",
       "43688                        gud phone gud compact phone  \n",
       "43689                        network issue network issue  \n",
       "43690                                excellent excellent  \n",
       "43691                      no fingerprint no fingerprint  \n",
       "43692  good device balance phone pricemade excellent ...  \n",
       "\n",
       "[43693 rows x 8 columns]"
      ]
     },
     "execution_count": 48,
     "metadata": {},
     "output_type": "execute_result"
    }
   ],
   "source": [
    "product_reviews"
   ]
  },
  {
   "cell_type": "code",
   "execution_count": 49,
   "metadata": {},
   "outputs": [
    {
     "name": "stdout",
     "output_type": "stream",
     "text": [
      "<class 'pandas.core.frame.DataFrame'>\n",
      "RangeIndex: 43693 entries, 0 to 43692\n",
      "Data columns (total 8 columns):\n",
      " #   Column        Non-Null Count  Dtype         \n",
      "---  ------        --------------  -----         \n",
      " 0   body          43693 non-null  object        \n",
      " 1   product_id    43693 non-null  object        \n",
      " 2   rating        43693 non-null  int64         \n",
      " 3   review_date   43693 non-null  datetime64[ns]\n",
      " 4   title         43693 non-null  object        \n",
      " 5   rating_class  43693 non-null  object        \n",
      " 6   review_text   43693 non-null  object        \n",
      " 7   clean_text    43693 non-null  object        \n",
      "dtypes: datetime64[ns](1), int64(1), object(6)\n",
      "memory usage: 2.7+ MB\n"
     ]
    }
   ],
   "source": [
    "product_reviews.info()"
   ]
  },
  {
   "cell_type": "markdown",
   "metadata": {},
   "source": [
    "## Cleaning the Text¶\n"
   ]
  },
  {
   "cell_type": "code",
   "execution_count": 50,
   "metadata": {},
   "outputs": [
    {
     "name": "stdout",
     "output_type": "stream",
     "text": [
      "Number of clean tokens: 499018\n",
      "\n",
      "Percentage of removed tokens: 0.42\n"
     ]
    }
   ],
   "source": [
    "# Let's put aside number of raw tokens in order to measure of cleaned tokens\n",
    "from nltk.tokenize import word_tokenize\n",
    "clean_tokens=len([w for t in (product_reviews[\"clean_text\"].apply(word_tokenize)) for w in t])\n",
    "print('Number of clean tokens: {}\\n'.format(clean_tokens))\n",
    "print('Percentage of removed tokens: {0:.2f}'.format(1-(clean_tokens/raw_tokens)))\n"
   ]
  },
  {
   "cell_type": "code",
   "execution_count": 51,
   "metadata": {},
   "outputs": [
    {
     "data": {
      "text/html": [
       "<div>\n",
       "<style scoped>\n",
       "    .dataframe tbody tr th:only-of-type {\n",
       "        vertical-align: middle;\n",
       "    }\n",
       "\n",
       "    .dataframe tbody tr th {\n",
       "        vertical-align: top;\n",
       "    }\n",
       "\n",
       "    .dataframe thead th {\n",
       "        text-align: right;\n",
       "    }\n",
       "</style>\n",
       "<table border=\"1\" class=\"dataframe\">\n",
       "  <thead>\n",
       "    <tr style=\"text-align: right;\">\n",
       "      <th></th>\n",
       "      <th>body</th>\n",
       "      <th>product_id</th>\n",
       "      <th>rating</th>\n",
       "      <th>review_date</th>\n",
       "      <th>title</th>\n",
       "      <th>rating_class</th>\n",
       "      <th>review_text</th>\n",
       "      <th>clean_text</th>\n",
       "    </tr>\n",
       "  </thead>\n",
       "  <tbody>\n",
       "    <tr>\n",
       "      <th>0</th>\n",
       "      <td>hanging this phone always</td>\n",
       "      <td>Samsung Galaxy M31s</td>\n",
       "      <td>1</td>\n",
       "      <td>2020-10-17</td>\n",
       "      <td>Not good phone. Don't buy</td>\n",
       "      <td>bad</td>\n",
       "      <td>Not good phone. Don't buy hanging this phone a...</td>\n",
       "      <td>not good phone dont buy hang phone always</td>\n",
       "    </tr>\n",
       "    <tr>\n",
       "      <th>1</th>\n",
       "      <td>Heating issue and battery life decreased in ju...</td>\n",
       "      <td>Samsung Galaxy M31s</td>\n",
       "      <td>3</td>\n",
       "      <td>2020-10-17</td>\n",
       "      <td>not as good as expected</td>\n",
       "      <td>good</td>\n",
       "      <td>not as good as expected Heating issue and batt...</td>\n",
       "      <td>not good expect heat issue battery life decrea...</td>\n",
       "    </tr>\n",
       "    <tr>\n",
       "      <th>2</th>\n",
       "      <td>Facing lot of problems. Battery is getting dra...</td>\n",
       "      <td>Samsung Galaxy M31s</td>\n",
       "      <td>3</td>\n",
       "      <td>2020-10-17</td>\n",
       "      <td>Samsung should take care of the above malfunct...</td>\n",
       "      <td>good</td>\n",
       "      <td>Samsung should take care of the above malfunct...</td>\n",
       "      <td>samsung take care malfunction issue seriously ...</td>\n",
       "    </tr>\n",
       "    <tr>\n",
       "      <th>3</th>\n",
       "      <td>like</td>\n",
       "      <td>Samsung Galaxy M31s</td>\n",
       "      <td>5</td>\n",
       "      <td>2020-10-17</td>\n",
       "      <td>Good</td>\n",
       "      <td>good</td>\n",
       "      <td>Good like</td>\n",
       "      <td>good like</td>\n",
       "    </tr>\n",
       "    <tr>\n",
       "      <th>4</th>\n",
       "      <td>Samsung Galaxy M31s phone is HangingCamera qua...</td>\n",
       "      <td>Samsung Galaxy M31s</td>\n",
       "      <td>3</td>\n",
       "      <td>2020-10-17</td>\n",
       "      <td>Don't over expectation</td>\n",
       "      <td>good</td>\n",
       "      <td>Don't over expectation Samsung Galaxy M31s pho...</td>\n",
       "      <td>dont expectation samsung galaxy ms phone hangi...</td>\n",
       "    </tr>\n",
       "    <tr>\n",
       "      <th>...</th>\n",
       "      <td>...</td>\n",
       "      <td>...</td>\n",
       "      <td>...</td>\n",
       "      <td>...</td>\n",
       "      <td>...</td>\n",
       "      <td>...</td>\n",
       "      <td>...</td>\n",
       "      <td>...</td>\n",
       "    </tr>\n",
       "    <tr>\n",
       "      <th>43688</th>\n",
       "      <td>Gud compact phone</td>\n",
       "      <td>Samsung Galaxy M01</td>\n",
       "      <td>5</td>\n",
       "      <td>2020-06-08</td>\n",
       "      <td>Gud phone</td>\n",
       "      <td>good</td>\n",
       "      <td>Gud phone Gud compact phone</td>\n",
       "      <td>gud phone gud compact phone</td>\n",
       "    </tr>\n",
       "    <tr>\n",
       "      <th>43689</th>\n",
       "      <td>Network issue 🤫 !!!</td>\n",
       "      <td>Samsung Galaxy M01</td>\n",
       "      <td>3</td>\n",
       "      <td>2020-06-04</td>\n",
       "      <td>Network issue 🤫 !!!</td>\n",
       "      <td>good</td>\n",
       "      <td>Network issue 🤫 !!! Network issue 🤫 !!!</td>\n",
       "      <td>network issue network issue</td>\n",
       "    </tr>\n",
       "    <tr>\n",
       "      <th>43690</th>\n",
       "      <td>Excellent</td>\n",
       "      <td>Samsung Galaxy M01</td>\n",
       "      <td>5</td>\n",
       "      <td>2020-06-02</td>\n",
       "      <td>Excellent!!!</td>\n",
       "      <td>good</td>\n",
       "      <td>Excellent!!! Excellent</td>\n",
       "      <td>excellent excellent</td>\n",
       "    </tr>\n",
       "    <tr>\n",
       "      <th>43691</th>\n",
       "      <td>No fingerprint</td>\n",
       "      <td>Samsung Galaxy M01</td>\n",
       "      <td>3</td>\n",
       "      <td>2020-06-02</td>\n",
       "      <td>No fingerprint</td>\n",
       "      <td>good</td>\n",
       "      <td>No fingerprint No fingerprint</td>\n",
       "      <td>no fingerprint no fingerprint</td>\n",
       "    </tr>\n",
       "    <tr>\n",
       "      <th>43692</th>\n",
       "      <td>😁BALANCED PHONE AT THIS PRICE😁Made in 🇮🇳😁EXCEL...</td>\n",
       "      <td>Samsung Galaxy M01</td>\n",
       "      <td>5</td>\n",
       "      <td>2020-06-02</td>\n",
       "      <td>GOOD DEVICE.</td>\n",
       "      <td>good</td>\n",
       "      <td>GOOD DEVICE. 😁BALANCED PHONE AT THIS PRICE😁Mad...</td>\n",
       "      <td>good device balance phone pricemade excellent ...</td>\n",
       "    </tr>\n",
       "  </tbody>\n",
       "</table>\n",
       "<p>43693 rows × 8 columns</p>\n",
       "</div>"
      ],
      "text/plain": [
       "                                                    body           product_id  \\\n",
       "0                              hanging this phone always  Samsung Galaxy M31s   \n",
       "1      Heating issue and battery life decreased in ju...  Samsung Galaxy M31s   \n",
       "2      Facing lot of problems. Battery is getting dra...  Samsung Galaxy M31s   \n",
       "3                                                   like  Samsung Galaxy M31s   \n",
       "4      Samsung Galaxy M31s phone is HangingCamera qua...  Samsung Galaxy M31s   \n",
       "...                                                  ...                  ...   \n",
       "43688                                  Gud compact phone   Samsung Galaxy M01   \n",
       "43689                                Network issue 🤫 !!!   Samsung Galaxy M01   \n",
       "43690                                          Excellent   Samsung Galaxy M01   \n",
       "43691                                     No fingerprint   Samsung Galaxy M01   \n",
       "43692  😁BALANCED PHONE AT THIS PRICE😁Made in 🇮🇳😁EXCEL...   Samsung Galaxy M01   \n",
       "\n",
       "       rating review_date                                              title  \\\n",
       "0           1  2020-10-17                          Not good phone. Don't buy   \n",
       "1           3  2020-10-17                            not as good as expected   \n",
       "2           3  2020-10-17  Samsung should take care of the above malfunct...   \n",
       "3           5  2020-10-17                                               Good   \n",
       "4           3  2020-10-17                             Don't over expectation   \n",
       "...       ...         ...                                                ...   \n",
       "43688       5  2020-06-08                                          Gud phone   \n",
       "43689       3  2020-06-04                                Network issue 🤫 !!!   \n",
       "43690       5  2020-06-02                                       Excellent!!!   \n",
       "43691       3  2020-06-02                                     No fingerprint   \n",
       "43692       5  2020-06-02                                       GOOD DEVICE.   \n",
       "\n",
       "      rating_class                                        review_text  \\\n",
       "0              bad  Not good phone. Don't buy hanging this phone a...   \n",
       "1             good  not as good as expected Heating issue and batt...   \n",
       "2             good  Samsung should take care of the above malfunct...   \n",
       "3             good                                          Good like   \n",
       "4             good  Don't over expectation Samsung Galaxy M31s pho...   \n",
       "...            ...                                                ...   \n",
       "43688         good                        Gud phone Gud compact phone   \n",
       "43689         good            Network issue 🤫 !!! Network issue 🤫 !!!   \n",
       "43690         good                             Excellent!!! Excellent   \n",
       "43691         good                      No fingerprint No fingerprint   \n",
       "43692         good  GOOD DEVICE. 😁BALANCED PHONE AT THIS PRICE😁Mad...   \n",
       "\n",
       "                                              clean_text  \n",
       "0              not good phone dont buy hang phone always  \n",
       "1      not good expect heat issue battery life decrea...  \n",
       "2      samsung take care malfunction issue seriously ...  \n",
       "3                                              good like  \n",
       "4      dont expectation samsung galaxy ms phone hangi...  \n",
       "...                                                  ...  \n",
       "43688                        gud phone gud compact phone  \n",
       "43689                        network issue network issue  \n",
       "43690                                excellent excellent  \n",
       "43691                      no fingerprint no fingerprint  \n",
       "43692  good device balance phone pricemade excellent ...  \n",
       "\n",
       "[43693 rows x 8 columns]"
      ]
     },
     "execution_count": 51,
     "metadata": {},
     "output_type": "execute_result"
    }
   ],
   "source": [
    "product_reviews"
   ]
  },
  {
   "cell_type": "code",
   "execution_count": 52,
   "metadata": {},
   "outputs": [],
   "source": [
    "product_reviews.to_csv('clean_review.csv', sep=',', encoding='utf-8', index = False)\n"
   ]
  },
  {
   "cell_type": "code",
   "execution_count": 53,
   "metadata": {},
   "outputs": [],
   "source": [
    "product_reviews.to_json('clean_review.json')\n"
   ]
  },
  {
   "cell_type": "code",
   "execution_count": null,
   "metadata": {},
   "outputs": [],
   "source": []
  }
 ],
 "metadata": {
  "hide_input": false,
  "kernelspec": {
   "display_name": "Python 3",
   "language": "python",
   "name": "python3"
  },
  "language_info": {
   "codemirror_mode": {
    "name": "ipython",
    "version": 3
   },
   "file_extension": ".py",
   "mimetype": "text/x-python",
   "name": "python",
   "nbconvert_exporter": "python",
   "pygments_lexer": "ipython3",
   "version": "3.7.9"
  },
  "toc": {
   "base_numbering": 1,
   "nav_menu": {},
   "number_sections": true,
   "sideBar": true,
   "skip_h1_title": false,
   "title_cell": "Table of Contents",
   "title_sidebar": "Contents",
   "toc_cell": false,
   "toc_position": {},
   "toc_section_display": true,
   "toc_window_display": false
  },
  "varInspector": {
   "cols": {
    "lenName": 16,
    "lenType": 16,
    "lenVar": 40
   },
   "kernels_config": {
    "python": {
     "delete_cmd_postfix": "",
     "delete_cmd_prefix": "del ",
     "library": "var_list.py",
     "varRefreshCmd": "print(var_dic_list())"
    },
    "r": {
     "delete_cmd_postfix": ") ",
     "delete_cmd_prefix": "rm(",
     "library": "var_list.r",
     "varRefreshCmd": "cat(var_dic_list()) "
    }
   },
   "types_to_exclude": [
    "module",
    "function",
    "builtin_function_or_method",
    "instance",
    "_Feature"
   ],
   "window_display": false
  }
 },
 "nbformat": 4,
 "nbformat_minor": 2
}
